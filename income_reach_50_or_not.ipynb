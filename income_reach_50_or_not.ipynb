{
 "cells": [
  {
   "cell_type": "code",
   "execution_count": 1,
   "id": "cb72097d",
   "metadata": {},
   "outputs": [],
   "source": [
    "# problem provided by https://archive.ics.uci.edu/ml/datasets/Adult"
   ]
  },
  {
   "cell_type": "code",
   "execution_count": 2,
   "id": "134b8fa4",
   "metadata": {},
   "outputs": [
    {
     "data": {
      "text/html": [
       "\n",
       "            <div>\n",
       "                <p><b>SparkSession - in-memory</b></p>\n",
       "                \n",
       "        <div>\n",
       "            <p><b>SparkContext</b></p>\n",
       "\n",
       "            <p><a href=\"http://DESKTOP-TQA2F8M:4040\">Spark UI</a></p>\n",
       "\n",
       "            <dl>\n",
       "              <dt>Version</dt>\n",
       "                <dd><code>v3.3.1</code></dd>\n",
       "              <dt>Master</dt>\n",
       "                <dd><code>local[*]</code></dd>\n",
       "              <dt>AppName</dt>\n",
       "                <dd><code>salary_50</code></dd>\n",
       "            </dl>\n",
       "        </div>\n",
       "        \n",
       "            </div>\n",
       "        "
      ],
      "text/plain": [
       "<pyspark.sql.session.SparkSession at 0x1dff69a3df0>"
      ]
     },
     "execution_count": 2,
     "metadata": {},
     "output_type": "execute_result"
    }
   ],
   "source": [
    "import findspark\n",
    "findspark.init()\n",
    "from pyspark.sql import SparkSession\n",
    "spark_session = SparkSession.builder.appName(\"salary_50\").getOrCreate()\n",
    "spark_session"
   ]
  },
  {
   "cell_type": "code",
   "execution_count": 3,
   "id": "76505b6f",
   "metadata": {},
   "outputs": [
    {
     "name": "stdout",
     "output_type": "stream",
     "text": [
      "root\n",
      " |-- age: integer (nullable = true)\n",
      " |-- workclass: string (nullable = true)\n",
      " |-- fnlwgt: double (nullable = true)\n",
      " |-- education: string (nullable = true)\n",
      " |-- education_num: double (nullable = true)\n",
      " |-- marital_status: string (nullable = true)\n",
      " |-- occupation: string (nullable = true)\n",
      " |-- relationship: string (nullable = true)\n",
      " |-- race: string (nullable = true)\n",
      " |-- sex: string (nullable = true)\n",
      " |-- capital_gain: double (nullable = true)\n",
      " |-- capital_loss: double (nullable = true)\n",
      " |-- hours_per_week: double (nullable = true)\n",
      " |-- native_country: string (nullable = true)\n",
      " |-- label: string (nullable = true)\n",
      "\n"
     ]
    }
   ],
   "source": [
    "# reading the data and giving the names to the fields\n",
    "data = spark_session.read.csv(\"adult.data\", inferSchema = True ,sep=\",\")\n",
    "data = data.withColumnRenamed(\"_c0\" ,\"age\")\n",
    "data = data.withColumnRenamed(\"_c1\" ,\"workclass\")\n",
    "data = data.withColumnRenamed(\"_c2\" ,\"fnlwgt\")\n",
    "data = data.withColumnRenamed(\"_c3\" ,\"education\")\n",
    "data = data.withColumnRenamed(\"_c4\" ,\"education_num\")\n",
    "data = data.withColumnRenamed(\"_c5\" ,\"marital_status\")\n",
    "data = data.withColumnRenamed(\"_c6\" ,\"occupation\")\n",
    "data = data.withColumnRenamed(\"_c7\" ,\"relationship\")\n",
    "data = data.withColumnRenamed(\"_c8\" ,\"race\")\n",
    "data = data.withColumnRenamed(\"_c9\" ,\"sex\")\n",
    "data = data.withColumnRenamed(\"_c10\" ,\"capital_gain\")\n",
    "data = data.withColumnRenamed(\"_c11\" ,\"capital_loss\")\n",
    "data = data.withColumnRenamed(\"_c12\" ,\"hours_per_week\")\n",
    "data = data.withColumnRenamed(\"_c13\" ,\"native_country\")\n",
    "data = data.withColumnRenamed(\"_c14\" ,\"label\")\n",
    "\n",
    "data.printSchema()"
   ]
  },
  {
   "cell_type": "code",
   "execution_count": 4,
   "id": "aa5e7a4f",
   "metadata": {},
   "outputs": [
    {
     "name": "stdout",
     "output_type": "stream",
     "text": [
      "+---+-----------------+--------+-------------+-------------+--------------------+------------------+---------------+-------------------+-------+------------+------------+--------------+--------------+------+\n",
      "|age|        workclass|  fnlwgt|    education|education_num|      marital_status|        occupation|   relationship|               race|    sex|capital_gain|capital_loss|hours_per_week|native_country| label|\n",
      "+---+-----------------+--------+-------------+-------------+--------------------+------------------+---------------+-------------------+-------+------------+------------+--------------+--------------+------+\n",
      "| 39|        State-gov| 77516.0|    Bachelors|         13.0|       Never-married|      Adm-clerical|  Not-in-family|              White|   Male|      2174.0|         0.0|          40.0| United-States| <=50K|\n",
      "| 50| Self-emp-not-inc| 83311.0|    Bachelors|         13.0|  Married-civ-spouse|   Exec-managerial|        Husband|              White|   Male|         0.0|         0.0|          13.0| United-States| <=50K|\n",
      "| 38|          Private|215646.0|      HS-grad|          9.0|            Divorced| Handlers-cleaners|  Not-in-family|              White|   Male|         0.0|         0.0|          40.0| United-States| <=50K|\n",
      "| 53|          Private|234721.0|         11th|          7.0|  Married-civ-spouse| Handlers-cleaners|        Husband|              Black|   Male|         0.0|         0.0|          40.0| United-States| <=50K|\n",
      "| 28|          Private|338409.0|    Bachelors|         13.0|  Married-civ-spouse|    Prof-specialty|           Wife|              Black| Female|         0.0|         0.0|          40.0|          Cuba| <=50K|\n",
      "| 37|          Private|284582.0|      Masters|         14.0|  Married-civ-spouse|   Exec-managerial|           Wife|              White| Female|         0.0|         0.0|          40.0| United-States| <=50K|\n",
      "| 49|          Private|160187.0|          9th|          5.0| Married-spouse-a...|     Other-service|  Not-in-family|              Black| Female|         0.0|         0.0|          16.0|       Jamaica| <=50K|\n",
      "| 52| Self-emp-not-inc|209642.0|      HS-grad|          9.0|  Married-civ-spouse|   Exec-managerial|        Husband|              White|   Male|         0.0|         0.0|          45.0| United-States|  >50K|\n",
      "| 31|          Private| 45781.0|      Masters|         14.0|       Never-married|    Prof-specialty|  Not-in-family|              White| Female|     14084.0|         0.0|          50.0| United-States|  >50K|\n",
      "| 42|          Private|159449.0|    Bachelors|         13.0|  Married-civ-spouse|   Exec-managerial|        Husband|              White|   Male|      5178.0|         0.0|          40.0| United-States|  >50K|\n",
      "| 37|          Private|280464.0| Some-college|         10.0|  Married-civ-spouse|   Exec-managerial|        Husband|              Black|   Male|         0.0|         0.0|          80.0| United-States|  >50K|\n",
      "| 30|        State-gov|141297.0|    Bachelors|         13.0|  Married-civ-spouse|    Prof-specialty|        Husband| Asian-Pac-Islander|   Male|         0.0|         0.0|          40.0|         India|  >50K|\n",
      "| 23|          Private|122272.0|    Bachelors|         13.0|       Never-married|      Adm-clerical|      Own-child|              White| Female|         0.0|         0.0|          30.0| United-States| <=50K|\n",
      "| 32|          Private|205019.0|   Assoc-acdm|         12.0|       Never-married|             Sales|  Not-in-family|              Black|   Male|         0.0|         0.0|          50.0| United-States| <=50K|\n",
      "| 40|          Private|121772.0|    Assoc-voc|         11.0|  Married-civ-spouse|      Craft-repair|        Husband| Asian-Pac-Islander|   Male|         0.0|         0.0|          40.0|          null|  >50K|\n",
      "| 34|          Private|245487.0|      7th-8th|          4.0|  Married-civ-spouse|  Transport-moving|        Husband| Amer-Indian-Eskimo|   Male|         0.0|         0.0|          45.0|        Mexico| <=50K|\n",
      "| 25| Self-emp-not-inc|176756.0|      HS-grad|          9.0|       Never-married|   Farming-fishing|      Own-child|              White|   Male|         0.0|         0.0|          35.0| United-States| <=50K|\n",
      "| 32|          Private|186824.0|      HS-grad|          9.0|       Never-married| Machine-op-inspct|      Unmarried|              White|   Male|         0.0|         0.0|          40.0| United-States| <=50K|\n",
      "| 38|          Private| 28887.0|         11th|          7.0|  Married-civ-spouse|             Sales|        Husband|              White|   Male|         0.0|         0.0|          50.0| United-States| <=50K|\n",
      "| 43| Self-emp-not-inc|292175.0|      Masters|         14.0|            Divorced|   Exec-managerial|      Unmarried|              White| Female|         0.0|         0.0|          45.0| United-States|  >50K|\n",
      "| 40|          Private|193524.0|    Doctorate|         16.0|  Married-civ-spouse|    Prof-specialty|        Husband|              White|   Male|         0.0|         0.0|          60.0| United-States|  >50K|\n",
      "| 54|          Private|302146.0|      HS-grad|          9.0|           Separated|     Other-service|      Unmarried|              Black| Female|         0.0|         0.0|          20.0| United-States| <=50K|\n",
      "| 35|      Federal-gov| 76845.0|          9th|          5.0|  Married-civ-spouse|   Farming-fishing|        Husband|              Black|   Male|         0.0|         0.0|          40.0| United-States| <=50K|\n",
      "| 43|          Private|117037.0|         11th|          7.0|  Married-civ-spouse|  Transport-moving|        Husband|              White|   Male|         0.0|      2042.0|          40.0| United-States| <=50K|\n",
      "| 59|          Private|109015.0|      HS-grad|          9.0|            Divorced|      Tech-support|      Unmarried|              White| Female|         0.0|         0.0|          40.0| United-States| <=50K|\n",
      "| 56|        Local-gov|216851.0|    Bachelors|         13.0|  Married-civ-spouse|      Tech-support|        Husband|              White|   Male|         0.0|         0.0|          40.0| United-States|  >50K|\n",
      "| 19|          Private|168294.0|      HS-grad|          9.0|       Never-married|      Craft-repair|      Own-child|              White|   Male|         0.0|         0.0|          40.0| United-States| <=50K|\n",
      "| 54|             null|180211.0| Some-college|         10.0|  Married-civ-spouse|              null|        Husband| Asian-Pac-Islander|   Male|         0.0|         0.0|          60.0|         South|  >50K|\n",
      "| 39|          Private|367260.0|      HS-grad|          9.0|            Divorced|   Exec-managerial|  Not-in-family|              White|   Male|         0.0|         0.0|          80.0| United-States| <=50K|\n",
      "| 49|          Private|193366.0|      HS-grad|          9.0|  Married-civ-spouse|      Craft-repair|        Husband|              White|   Male|         0.0|         0.0|          40.0| United-States| <=50K|\n",
      "| 23|        Local-gov|190709.0|   Assoc-acdm|         12.0|       Never-married|   Protective-serv|  Not-in-family|              White|   Male|         0.0|         0.0|          52.0| United-States| <=50K|\n",
      "| 20|          Private|266015.0| Some-college|         10.0|       Never-married|             Sales|      Own-child|              Black|   Male|         0.0|         0.0|          44.0| United-States| <=50K|\n",
      "| 45|          Private|386940.0|    Bachelors|         13.0|            Divorced|   Exec-managerial|      Own-child|              White|   Male|         0.0|      1408.0|          40.0| United-States| <=50K|\n",
      "| 30|      Federal-gov| 59951.0| Some-college|         10.0|  Married-civ-spouse|      Adm-clerical|      Own-child|              White|   Male|         0.0|         0.0|          40.0| United-States| <=50K|\n",
      "| 22|        State-gov|311512.0| Some-college|         10.0|  Married-civ-spouse|     Other-service|        Husband|              Black|   Male|         0.0|         0.0|          15.0| United-States| <=50K|\n",
      "| 48|          Private|242406.0|         11th|          7.0|       Never-married| Machine-op-inspct|      Unmarried|              White|   Male|         0.0|         0.0|          40.0|   Puerto-Rico| <=50K|\n",
      "| 21|          Private|197200.0| Some-college|         10.0|       Never-married| Machine-op-inspct|      Own-child|              White|   Male|         0.0|         0.0|          40.0| United-States| <=50K|\n",
      "| 19|          Private|544091.0|      HS-grad|          9.0|   Married-AF-spouse|      Adm-clerical|           Wife|              White| Female|         0.0|         0.0|          25.0| United-States| <=50K|\n",
      "| 31|          Private| 84154.0| Some-college|         10.0|  Married-civ-spouse|             Sales|        Husband|              White|   Male|         0.0|         0.0|          38.0|          null|  >50K|\n",
      "| 48| Self-emp-not-inc|265477.0|   Assoc-acdm|         12.0|  Married-civ-spouse|    Prof-specialty|        Husband|              White|   Male|         0.0|         0.0|          40.0| United-States| <=50K|\n",
      "| 31|          Private|507875.0|          9th|          5.0|  Married-civ-spouse| Machine-op-inspct|        Husband|              White|   Male|         0.0|         0.0|          43.0| United-States| <=50K|\n",
      "| 53| Self-emp-not-inc| 88506.0|    Bachelors|         13.0|  Married-civ-spouse|    Prof-specialty|        Husband|              White|   Male|         0.0|         0.0|          40.0| United-States| <=50K|\n",
      "| 24|          Private|172987.0|    Bachelors|         13.0|  Married-civ-spouse|      Tech-support|        Husband|              White|   Male|         0.0|         0.0|          50.0| United-States| <=50K|\n",
      "| 49|          Private| 94638.0|      HS-grad|          9.0|           Separated|      Adm-clerical|      Unmarried|              White| Female|         0.0|         0.0|          40.0| United-States| <=50K|\n",
      "| 25|          Private|289980.0|      HS-grad|          9.0|       Never-married| Handlers-cleaners|  Not-in-family|              White|   Male|         0.0|         0.0|          35.0| United-States| <=50K|\n",
      "| 57|      Federal-gov|337895.0|    Bachelors|         13.0|  Married-civ-spouse|    Prof-specialty|        Husband|              Black|   Male|         0.0|         0.0|          40.0| United-States|  >50K|\n",
      "| 53|          Private|144361.0|      HS-grad|          9.0|  Married-civ-spouse| Machine-op-inspct|        Husband|              White|   Male|         0.0|         0.0|          38.0| United-States| <=50K|\n",
      "| 44|          Private|128354.0|      Masters|         14.0|            Divorced|   Exec-managerial|      Unmarried|              White| Female|         0.0|         0.0|          40.0| United-States| <=50K|\n",
      "| 41|        State-gov|101603.0|    Assoc-voc|         11.0|  Married-civ-spouse|      Craft-repair|        Husband|              White|   Male|         0.0|         0.0|          40.0| United-States| <=50K|\n",
      "| 29|          Private|271466.0|    Assoc-voc|         11.0|       Never-married|    Prof-specialty|  Not-in-family|              White|   Male|         0.0|         0.0|          43.0| United-States| <=50K|\n",
      "| 25|          Private| 32275.0| Some-college|         10.0|  Married-civ-spouse|   Exec-managerial|           Wife|              Other| Female|         0.0|         0.0|          40.0| United-States| <=50K|\n",
      "| 18|          Private|226956.0|      HS-grad|          9.0|       Never-married|     Other-service|      Own-child|              White| Female|         0.0|         0.0|          30.0|          null| <=50K|\n",
      "| 47|          Private| 51835.0|  Prof-school|         15.0|  Married-civ-spouse|    Prof-specialty|           Wife|              White| Female|         0.0|      1902.0|          60.0|      Honduras|  >50K|\n",
      "| 50|      Federal-gov|251585.0|    Bachelors|         13.0|            Divorced|   Exec-managerial|  Not-in-family|              White|   Male|         0.0|         0.0|          55.0| United-States|  >50K|\n",
      "| 47|     Self-emp-inc|109832.0|      HS-grad|          9.0|            Divorced|   Exec-managerial|  Not-in-family|              White|   Male|         0.0|         0.0|          60.0| United-States| <=50K|\n",
      "| 43|          Private|237993.0| Some-college|         10.0|  Married-civ-spouse|      Tech-support|        Husband|              White|   Male|         0.0|         0.0|          40.0| United-States|  >50K|\n",
      "| 46|          Private|216666.0|      5th-6th|          3.0|  Married-civ-spouse| Machine-op-inspct|        Husband|              White|   Male|         0.0|         0.0|          40.0|        Mexico| <=50K|\n",
      "| 35|          Private| 56352.0|    Assoc-voc|         11.0|  Married-civ-spouse|     Other-service|        Husband|              White|   Male|         0.0|         0.0|          40.0|   Puerto-Rico| <=50K|\n",
      "| 41|          Private|147372.0|      HS-grad|          9.0|  Married-civ-spouse|      Adm-clerical|        Husband|              White|   Male|         0.0|         0.0|          48.0| United-States| <=50K|\n",
      "| 30|          Private|188146.0|      HS-grad|          9.0|  Married-civ-spouse| Machine-op-inspct|        Husband|              White|   Male|      5013.0|         0.0|          40.0| United-States| <=50K|\n",
      "| 30|          Private| 59496.0|    Bachelors|         13.0|  Married-civ-spouse|             Sales|        Husband|              White|   Male|      2407.0|         0.0|          40.0| United-States| <=50K|\n",
      "| 32|             null|293936.0|      7th-8th|          4.0| Married-spouse-a...|              null|  Not-in-family|              White|   Male|         0.0|         0.0|          40.0|          null| <=50K|\n",
      "| 48|          Private|149640.0|      HS-grad|          9.0|  Married-civ-spouse|  Transport-moving|        Husband|              White|   Male|         0.0|         0.0|          40.0| United-States| <=50K|\n",
      "| 42|          Private|116632.0|    Doctorate|         16.0|  Married-civ-spouse|    Prof-specialty|        Husband|              White|   Male|         0.0|         0.0|          45.0| United-States|  >50K|\n",
      "| 29|          Private|105598.0| Some-college|         10.0|            Divorced|      Tech-support|  Not-in-family|              White|   Male|         0.0|         0.0|          58.0| United-States| <=50K|\n",
      "| 36|          Private|155537.0|      HS-grad|          9.0|  Married-civ-spouse|      Craft-repair|        Husband|              White|   Male|         0.0|         0.0|          40.0| United-States| <=50K|\n",
      "| 28|          Private|183175.0| Some-college|         10.0|            Divorced|      Adm-clerical|  Not-in-family|              White| Female|         0.0|         0.0|          40.0| United-States| <=50K|\n",
      "| 53|          Private|169846.0|      HS-grad|          9.0|  Married-civ-spouse|      Adm-clerical|           Wife|              White| Female|         0.0|         0.0|          40.0| United-States|  >50K|\n",
      "| 49|     Self-emp-inc|191681.0| Some-college|         10.0|  Married-civ-spouse|   Exec-managerial|        Husband|              White|   Male|         0.0|         0.0|          50.0| United-States|  >50K|\n",
      "| 25|             null|200681.0| Some-college|         10.0|       Never-married|              null|      Own-child|              White|   Male|         0.0|         0.0|          40.0| United-States| <=50K|\n",
      "| 19|          Private|101509.0| Some-college|         10.0|       Never-married|    Prof-specialty|      Own-child|              White|   Male|         0.0|         0.0|          32.0| United-States| <=50K|\n",
      "| 31|          Private|309974.0|    Bachelors|         13.0|           Separated|             Sales|      Own-child|              Black| Female|         0.0|         0.0|          40.0| United-States| <=50K|\n",
      "| 29| Self-emp-not-inc|162298.0|    Bachelors|         13.0|  Married-civ-spouse|             Sales|        Husband|              White|   Male|         0.0|         0.0|          70.0| United-States|  >50K|\n",
      "| 23|          Private|211678.0| Some-college|         10.0|       Never-married| Machine-op-inspct|  Not-in-family|              White|   Male|         0.0|         0.0|          40.0| United-States| <=50K|\n",
      "| 79|          Private|124744.0| Some-college|         10.0|  Married-civ-spouse|    Prof-specialty| Other-relative|              White|   Male|         0.0|         0.0|          20.0| United-States| <=50K|\n",
      "| 27|          Private|213921.0|      HS-grad|          9.0|       Never-married|     Other-service|      Own-child|              White|   Male|         0.0|         0.0|          40.0|        Mexico| <=50K|\n",
      "| 40|          Private| 32214.0|   Assoc-acdm|         12.0|  Married-civ-spouse|      Adm-clerical|        Husband|              White|   Male|         0.0|         0.0|          40.0| United-States| <=50K|\n",
      "| 67|             null|212759.0|         10th|          6.0|  Married-civ-spouse|              null|        Husband|              White|   Male|         0.0|         0.0|           2.0| United-States| <=50K|\n",
      "| 18|          Private|309634.0|         11th|          7.0|       Never-married|     Other-service|      Own-child|              White| Female|         0.0|         0.0|          22.0| United-States| <=50K|\n",
      "| 31|        Local-gov|125927.0|      7th-8th|          4.0|  Married-civ-spouse|   Farming-fishing|        Husband|              White|   Male|         0.0|         0.0|          40.0| United-States| <=50K|\n",
      "| 18|          Private|446839.0|      HS-grad|          9.0|       Never-married|             Sales|  Not-in-family|              White|   Male|         0.0|         0.0|          30.0| United-States| <=50K|\n",
      "| 52|          Private|276515.0|    Bachelors|         13.0|  Married-civ-spouse|     Other-service|        Husband|              White|   Male|         0.0|         0.0|          40.0|          Cuba| <=50K|\n",
      "| 46|          Private| 51618.0|      HS-grad|          9.0|  Married-civ-spouse|     Other-service|           Wife|              White| Female|         0.0|         0.0|          40.0| United-States| <=50K|\n",
      "| 59|          Private|159937.0|      HS-grad|          9.0|  Married-civ-spouse|             Sales|        Husband|              White|   Male|         0.0|         0.0|          48.0| United-States| <=50K|\n",
      "| 44|          Private|343591.0|      HS-grad|          9.0|            Divorced|      Craft-repair|  Not-in-family|              White| Female|     14344.0|         0.0|          40.0| United-States|  >50K|\n",
      "| 53|          Private|346253.0|      HS-grad|          9.0|            Divorced|             Sales|      Own-child|              White| Female|         0.0|         0.0|          35.0| United-States| <=50K|\n",
      "| 49|        Local-gov|268234.0|      HS-grad|          9.0|  Married-civ-spouse|   Protective-serv|        Husband|              White|   Male|         0.0|         0.0|          40.0| United-States|  >50K|\n",
      "| 33|          Private|202051.0|      Masters|         14.0|  Married-civ-spouse|    Prof-specialty|        Husband|              White|   Male|         0.0|         0.0|          50.0| United-States| <=50K|\n",
      "| 30|          Private| 54334.0|          9th|          5.0|       Never-married|             Sales|  Not-in-family|              White|   Male|         0.0|         0.0|          40.0| United-States| <=50K|\n",
      "| 43|      Federal-gov|410867.0|    Doctorate|         16.0|       Never-married|    Prof-specialty|  Not-in-family|              White| Female|         0.0|         0.0|          50.0| United-States|  >50K|\n",
      "| 57|          Private|249977.0|    Assoc-voc|         11.0|  Married-civ-spouse|    Prof-specialty|        Husband|              White|   Male|         0.0|         0.0|          40.0| United-States| <=50K|\n",
      "| 37|          Private|286730.0| Some-college|         10.0|            Divorced|      Craft-repair|      Unmarried|              White| Female|         0.0|         0.0|          40.0| United-States| <=50K|\n",
      "| 28|          Private|212563.0| Some-college|         10.0|            Divorced| Machine-op-inspct|      Unmarried|              Black| Female|         0.0|         0.0|          25.0| United-States| <=50K|\n",
      "| 30|          Private|117747.0|      HS-grad|          9.0|  Married-civ-spouse|             Sales|           Wife| Asian-Pac-Islander| Female|         0.0|      1573.0|          35.0|          null| <=50K|\n",
      "| 34|        Local-gov|226296.0|    Bachelors|         13.0|  Married-civ-spouse|   Protective-serv|        Husband|              White|   Male|         0.0|         0.0|          40.0| United-States|  >50K|\n",
      "| 29|        Local-gov|115585.0| Some-college|         10.0|       Never-married| Handlers-cleaners|  Not-in-family|              White|   Male|         0.0|         0.0|          50.0| United-States| <=50K|\n",
      "| 48| Self-emp-not-inc|191277.0|    Doctorate|         16.0|  Married-civ-spouse|    Prof-specialty|        Husband|              White|   Male|         0.0|      1902.0|          60.0| United-States|  >50K|\n",
      "| 37|          Private|202683.0| Some-college|         10.0|  Married-civ-spouse|             Sales|        Husband|              White|   Male|         0.0|         0.0|          48.0| United-States|  >50K|\n",
      "| 48|          Private|171095.0|   Assoc-acdm|         12.0|            Divorced|   Exec-managerial|      Unmarried|              White| Female|         0.0|         0.0|          40.0|       England| <=50K|\n",
      "| 32|      Federal-gov|249409.0|      HS-grad|          9.0|       Never-married|     Other-service|      Own-child|              Black|   Male|         0.0|         0.0|          40.0| United-States| <=50K|\n",
      "+---+-----------------+--------+-------------+-------------+--------------------+------------------+---------------+-------------------+-------+------------+------------+--------------+--------------+------+\n",
      "only showing top 100 rows\n",
      "\n"
     ]
    }
   ],
   "source": [
    "data.show(100)\n",
    "#certain columns have a null value"
   ]
  },
  {
   "cell_type": "code",
   "execution_count": 5,
   "id": "1caee1a8",
   "metadata": {},
   "outputs": [
    {
     "name": "stdout",
     "output_type": "stream",
     "text": [
      "workclass\n",
      "occupation\n",
      "native_country\n"
     ]
    }
   ],
   "source": [
    "# getting that columns who contains null values\n",
    "for i in range(15):\n",
    "    if data.groupBy(data.columns[i]).count().filter(f\"{data.columns[i]} is null\").count() > 0:\n",
    "        print(data.columns[i])"
   ]
  },
  {
   "cell_type": "code",
   "execution_count": 6,
   "id": "af9d3e1d",
   "metadata": {},
   "outputs": [
    {
     "name": "stdout",
     "output_type": "stream",
     "text": [
      "32561\n",
      "30162\n"
     ]
    }
   ],
   "source": [
    "# droping all the row who contain null values\n",
    "print(data.count())\n",
    "data = data.na.drop()\n",
    "print(data.count())"
   ]
  },
  {
   "cell_type": "code",
   "execution_count": 7,
   "id": "e1856333",
   "metadata": {},
   "outputs": [],
   "source": [
    "# indexing the categorical columns\n",
    "from pyspark.ml.feature import StringIndexer\n",
    "string_indxer = StringIndexer(inputCol = \"workclass\" , outputCol = \"workclass_indexed\")\n",
    "indexed_data = string_indxer.fit(data).transform(data)\n",
    "string_indxer = StringIndexer(inputCol = \"education\" , outputCol = \"education_indexed\")\n",
    "indexed_data = string_indxer.fit(indexed_data).transform(indexed_data)\n",
    "string_indxer = StringIndexer(inputCol = \"marital_status\" , outputCol = \"marital_status_indexed\")\n",
    "indexed_data = string_indxer.fit(indexed_data).transform(indexed_data)\n",
    "string_indxer = StringIndexer(inputCol = \"occupation\" , outputCol = \"occupation_indexed\")\n",
    "indexed_data = string_indxer.fit(indexed_data).transform(indexed_data)\n",
    "string_indxer = StringIndexer(inputCol = \"relationship\" , outputCol = \"relationship_indexed\")\n",
    "indexed_data = string_indxer.fit(indexed_data).transform(indexed_data)\n",
    "string_indxer = StringIndexer(inputCol = \"race\" , outputCol = \"race_indexed\")\n",
    "indexed_data = string_indxer.fit(indexed_data).transform(indexed_data)\n",
    "string_indxer = StringIndexer(inputCol = \"sex\" , outputCol = \"sex_indexed\")\n",
    "indexed_data = string_indxer.fit(indexed_data).transform(indexed_data)\n",
    "string_indxer = StringIndexer(inputCol = \"native_country\" , outputCol = \"native_country_indexed\")\n",
    "indexed_data = string_indxer.fit(indexed_data).transform(indexed_data)\n",
    "string_indxer = StringIndexer(inputCol = \"label\" , outputCol = \"label_indexed\")\n",
    "indexed_data = string_indxer.fit(indexed_data).transform(indexed_data)"
   ]
  },
  {
   "cell_type": "code",
   "execution_count": 8,
   "id": "3a57f129",
   "metadata": {},
   "outputs": [
    {
     "name": "stdout",
     "output_type": "stream",
     "text": [
      "+-----------------+-----------------+----------------------+------------------+\n",
      "|workclass_indexed|education_indexed|marital_status_indexed|occupation_indexed|\n",
      "+-----------------+-----------------+----------------------+------------------+\n",
      "|              3.0|              2.0|                   1.0|               3.0|\n",
      "|              1.0|              2.0|                   0.0|               2.0|\n",
      "|              0.0|              0.0|                   2.0|               8.0|\n",
      "|              0.0|              5.0|                   0.0|               8.0|\n",
      "|              0.0|              2.0|                   0.0|               0.0|\n",
      "|              0.0|              3.0|                   0.0|               2.0|\n",
      "|              0.0|             10.0|                   5.0|               5.0|\n",
      "|              1.0|              0.0|                   0.0|               2.0|\n",
      "|              0.0|              3.0|                   1.0|               0.0|\n",
      "|              0.0|              2.0|                   0.0|               2.0|\n",
      "|              0.0|              1.0|                   0.0|               2.0|\n",
      "|              3.0|              2.0|                   0.0|               0.0|\n",
      "|              0.0|              2.0|                   1.0|               3.0|\n",
      "|              0.0|              6.0|                   1.0|               4.0|\n",
      "|              0.0|              8.0|                   0.0|               7.0|\n",
      "|              1.0|              0.0|                   1.0|               9.0|\n",
      "|              0.0|              0.0|                   1.0|               6.0|\n",
      "|              0.0|              5.0|                   0.0|               4.0|\n",
      "|              1.0|              3.0|                   2.0|               2.0|\n",
      "|              0.0|             12.0|                   0.0|               0.0|\n",
      "+-----------------+-----------------+----------------------+------------------+\n",
      "only showing top 20 rows\n",
      "\n"
     ]
    }
   ],
   "source": [
    "indexed_data.select(indexed_data.columns[15:19]).show()"
   ]
  },
  {
   "cell_type": "code",
   "execution_count": 9,
   "id": "4157d1b4",
   "metadata": {},
   "outputs": [
    {
     "name": "stdout",
     "output_type": "stream",
     "text": [
      "+------------------+--------------------+------------+-----------+----------------------+-------------+\n",
      "|occupation_indexed|relationship_indexed|race_indexed|sex_indexed|native_country_indexed|label_indexed|\n",
      "+------------------+--------------------+------------+-----------+----------------------+-------------+\n",
      "|               3.0|                 1.0|         0.0|        0.0|                   0.0|          0.0|\n",
      "|               2.0|                 0.0|         0.0|        0.0|                   0.0|          0.0|\n",
      "|               8.0|                 1.0|         0.0|        0.0|                   0.0|          0.0|\n",
      "|               8.0|                 0.0|         1.0|        0.0|                   0.0|          0.0|\n",
      "|               0.0|                 4.0|         1.0|        1.0|                   8.0|          0.0|\n",
      "|               2.0|                 4.0|         0.0|        1.0|                   0.0|          0.0|\n",
      "|               5.0|                 1.0|         1.0|        1.0|                  10.0|          0.0|\n",
      "|               2.0|                 0.0|         0.0|        0.0|                   0.0|          1.0|\n",
      "|               0.0|                 1.0|         0.0|        1.0|                   0.0|          1.0|\n",
      "|               2.0|                 0.0|         0.0|        0.0|                   0.0|          1.0|\n",
      "|               2.0|                 0.0|         1.0|        0.0|                   0.0|          1.0|\n",
      "|               0.0|                 0.0|         2.0|        0.0|                   7.0|          1.0|\n",
      "|               3.0|                 2.0|         0.0|        1.0|                   0.0|          0.0|\n",
      "|               4.0|                 1.0|         1.0|        0.0|                   0.0|          0.0|\n",
      "|               7.0|                 0.0|         3.0|        0.0|                   1.0|          0.0|\n",
      "|               9.0|                 2.0|         0.0|        0.0|                   0.0|          0.0|\n",
      "|               6.0|                 3.0|         0.0|        0.0|                   0.0|          0.0|\n",
      "|               4.0|                 0.0|         0.0|        0.0|                   0.0|          0.0|\n",
      "|               2.0|                 3.0|         0.0|        1.0|                   0.0|          1.0|\n",
      "|               0.0|                 0.0|         0.0|        0.0|                   0.0|          1.0|\n",
      "+------------------+--------------------+------------+-----------+----------------------+-------------+\n",
      "only showing top 20 rows\n",
      "\n"
     ]
    }
   ],
   "source": [
    "indexed_data.select(indexed_data.columns[18:]).show()"
   ]
  },
  {
   "cell_type": "code",
   "execution_count": 10,
   "id": "f3798295",
   "metadata": {},
   "outputs": [
    {
     "data": {
      "text/plain": [
       "['age',\n",
       " 'workclass',\n",
       " 'fnlwgt',\n",
       " 'education',\n",
       " 'education_num',\n",
       " 'marital_status',\n",
       " 'occupation',\n",
       " 'relationship',\n",
       " 'race',\n",
       " 'sex',\n",
       " 'capital_gain',\n",
       " 'capital_loss',\n",
       " 'hours_per_week',\n",
       " 'native_country',\n",
       " 'label',\n",
       " 'workclass_indexed',\n",
       " 'education_indexed',\n",
       " 'marital_status_indexed',\n",
       " 'occupation_indexed',\n",
       " 'relationship_indexed',\n",
       " 'race_indexed',\n",
       " 'sex_indexed',\n",
       " 'native_country_indexed',\n",
       " 'label_indexed']"
      ]
     },
     "execution_count": 10,
     "metadata": {},
     "output_type": "execute_result"
    }
   ],
   "source": [
    "indexed_data.columns"
   ]
  },
  {
   "cell_type": "code",
   "execution_count": 11,
   "id": "96ebeb04",
   "metadata": {},
   "outputs": [
    {
     "name": "stdout",
     "output_type": "stream",
     "text": [
      "+--------------------+-----+\n",
      "|            features|label|\n",
      "+--------------------+-----+\n",
      "|[39.0,77516.0,13....|  0.0|\n",
      "|(14,[0,1,2,5,6,12...|  0.0|\n",
      "|(14,[0,1,2,5,7,8,...|  0.0|\n",
      "|(14,[0,1,2,5,6,9,...|  0.0|\n",
      "|[28.0,338409.0,13...|  0.0|\n",
      "|(14,[0,1,2,5,6,8,...|  0.0|\n",
      "|[49.0,160187.0,5....|  0.0|\n",
      "|(14,[0,1,2,5,12,1...|  1.0|\n",
      "|[31.0,45781.0,14....|  1.0|\n",
      "|(14,[0,1,2,3,5,6,...|  1.0|\n",
      "|(14,[0,1,2,5,6,9,...|  1.0|\n",
      "|(14,[0,1,2,5,6,9,...|  1.0|\n",
      "|[23.0,122272.0,13...|  0.0|\n",
      "|[32.0,205019.0,12...|  0.0|\n",
      "|(14,[0,1,2,5,6,9,...|  0.0|\n",
      "|(14,[0,1,2,5,7,8,...|  0.0|\n",
      "|(14,[0,1,2,5,7,8,...|  0.0|\n",
      "|(14,[0,1,2,5,6,12...|  0.0|\n",
      "|[43.0,292175.0,14...|  1.0|\n",
      "|(14,[0,1,2,5,6],[...|  1.0|\n",
      "+--------------------+-----+\n",
      "only showing top 20 rows\n",
      "\n"
     ]
    }
   ],
   "source": [
    "from pyspark.ml.feature import VectorAssembler\n",
    "va = VectorAssembler(inputCols=[\"age\",\"fnlwgt\",\"education_num\",\"capital_gain\",\"capital_loss\",\"hours_per_week\",\"education_indexed\",\n",
    "                                \"marital_status_indexed\",\"relationship_indexed\",\"race_indexed\",\"sex_indexed\",\"native_country_indexed\" , \n",
    "                                \"occupation_indexed\" , \"workclass_indexed\"] , outputCol = \"features\")\n",
    "finalized_data = va.transform(indexed_data)\n",
    "finalized_data = finalized_data.select(finalized_data.columns[:-3:-1]).withColumnRenamed(\"label_indexed\" , \"label\")\n",
    "finalized_data.show()"
   ]
  },
  {
   "cell_type": "code",
   "execution_count": 12,
   "id": "795101cd",
   "metadata": {},
   "outputs": [],
   "source": [
    "test_data , train_data = finalized_data.randomSplit([0.3,0.7])"
   ]
  },
  {
   "cell_type": "code",
   "execution_count": 13,
   "id": "ed737aef",
   "metadata": {},
   "outputs": [
    {
     "name": "stdout",
     "output_type": "stream",
     "text": [
      "+--------------------+-----+--------------------+--------------------+----------+\n",
      "|            features|label|       rawPrediction|         probability|prediction|\n",
      "+--------------------+-----+--------------------+--------------------+----------+\n",
      "|(14,[0,1,2,3,5],[...|  1.0|[-1.6726582335972...|[0.15807008902088...|       1.0|\n",
      "|(14,[0,1,2,3,5,6]...|  1.0|[0.01921712948964...|[0.50480413452685...|       0.0|\n",
      "|(14,[0,1,2,3,5,6]...|  1.0|[-29.976361431495...|[9.58145893851507...|       1.0|\n",
      "|(14,[0,1,2,3,5,6]...|  1.0|[-4.1980016084253...|[0.01480314802436...|       1.0|\n",
      "|(14,[0,1,2,3,5,6]...|  1.0|[-4.7592311648639...|[0.00849933945502...|       1.0|\n",
      "|(14,[0,1,2,3,5,6]...|  1.0|[-30.565764784288...|[5.31443401364856...|       1.0|\n",
      "|(14,[0,1,2,3,5,6]...|  1.0|[-1.0307050056105...|[0.26294744695486...|       1.0|\n",
      "|(14,[0,1,2,3,5,6]...|  1.0|[-2.5963271453761...|[0.06937517341373...|       1.0|\n",
      "|(14,[0,1,2,3,5,6]...|  1.0|[-1.5803096105181...|[0.17075163809219...|       1.0|\n",
      "|(14,[0,1,2,3,5,6]...|  1.0|[-0.6220744765754...|[0.34930979126668...|       1.0|\n",
      "|(14,[0,1,2,3,5,6]...|  1.0|[-3.1594612259771...|[0.04072009393813...|       1.0|\n",
      "|(14,[0,1,2,3,5,6]...|  1.0|[-1.0698913187002...|[0.25542375289998...|       1.0|\n",
      "|(14,[0,1,2,3,5,6]...|  1.0|[-2.3432586893526...|[0.08760310143672...|       1.0|\n",
      "|(14,[0,1,2,3,5,6]...|  1.0|[-2.7105375233598...|[0.06235441696049...|       1.0|\n",
      "|(14,[0,1,2,3,5,6]...|  1.0|[-31.918489431984...|[1.37396657941193...|       1.0|\n",
      "|(14,[0,1,2,3,5,6]...|  1.0|[-5.6341911204740...|[0.00356084174406...|       1.0|\n",
      "|(14,[0,1,2,3,5,6]...|  1.0|[-5.3891410980889...|[0.00454514067914...|       1.0|\n",
      "|(14,[0,1,2,3,5,6]...|  1.0|[-2.5239328880307...|[0.07419733404294...|       1.0|\n",
      "|(14,[0,1,2,3,5,6]...|  1.0|[-32.289599775689...|[9.47992703228932...|       1.0|\n",
      "|(14,[0,1,2,3,5,6]...|  1.0|[-2.1935837336448...|[0.10032815347192...|       1.0|\n",
      "+--------------------+-----+--------------------+--------------------+----------+\n",
      "only showing top 20 rows\n",
      "\n"
     ]
    }
   ],
   "source": [
    "from pyspark.ml.classification import LogisticRegression\n",
    "lr = LogisticRegression()\n",
    "lr = lr.fit(train_data)\n",
    "predictions = lr.transform(test_data)\n",
    "predictions.show()"
   ]
  },
  {
   "cell_type": "code",
   "execution_count": 14,
   "id": "de8fd150",
   "metadata": {},
   "outputs": [
    {
     "data": {
      "text/plain": [
       "0.8794652290846265"
      ]
     },
     "execution_count": 14,
     "metadata": {},
     "output_type": "execute_result"
    }
   ],
   "source": [
    "#claculating the accuarcay accuracy\n",
    "from pyspark.ml.evaluation import BinaryClassificationEvaluator\n",
    "evaluator = BinaryClassificationEvaluator()\n",
    "evaluator.evaluate(predictions)"
   ]
  },
  {
   "cell_type": "code",
   "execution_count": null,
   "id": "79edef38",
   "metadata": {},
   "outputs": [],
   "source": []
  }
 ],
 "metadata": {
  "kernelspec": {
   "display_name": "Python 3 (ipykernel)",
   "language": "python",
   "name": "python3"
  },
  "language_info": {
   "codemirror_mode": {
    "name": "ipython",
    "version": 3
   },
   "file_extension": ".py",
   "mimetype": "text/x-python",
   "name": "python",
   "nbconvert_exporter": "python",
   "pygments_lexer": "ipython3",
   "version": "3.10.5"
  }
 },
 "nbformat": 4,
 "nbformat_minor": 5
}
